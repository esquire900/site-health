{
 "cells": [
  {
   "cell_type": "code",
   "execution_count": 102,
   "metadata": {},
   "outputs": [],
   "source": [
    "from selenium import webdriver\n",
    "from screenshot import *\n",
    "import pandas as pd\n",
    "driver = webdriver.Remote(\n",
    "    desired_capabilities=webdriver.DesiredCapabilities.FIREFOX,\n",
    "    command_executor='http://localhost:4444/wd/hub'\n",
    ")\n",
    "driver.desired_capabilities['zal:recordVideo'] = False\n",
    "driver.get('https://ok.nl/overzicht-tankstations')\n",
    "# driver.save_screenshot(\"screenshot.png\")\n",
    "# timings = driver.execute_script('return performance.timing')\n",
    "# import pandas as pd\n",
    "# pd.Series(timings).sort_values() - timings['navigationStart']\n",
    "\n",
    "# var find = jQuery('*').filter(function () { \n",
    "#         return jQuery(this).css('position') == 'fixed';\n",
    "#     });\n",
    "# jQuery.each(find, function(k,f){f.style.display = 'none'});\n"
   ]
  },
  {
   "cell_type": "code",
   "execution_count": 117,
   "metadata": {},
   "outputs": [],
   "source": [
    "# driver.get('https://ok.nl/overzicht-tankstations')\n",
    "# driver.get('https://simonnouwens.nl')\n",
    "driver.get('https://blog.simonnouwens.nl')\n"
   ]
  },
  {
   "cell_type": "code",
   "execution_count": 118,
   "metadata": {},
   "outputs": [
    {
     "data": {
      "text/plain": [
       "True"
      ]
     },
     "execution_count": 118,
     "metadata": {},
     "output_type": "execute_result"
    }
   ],
   "source": [
    "S = lambda X: driver.execute_script('return document.body.parentNode.scroll'+X)\n",
    "driver.set_window_size(1200,S('Height')) # May need manual adjustment\n",
    "driver.find_element_by_tag_name('body').screenshot('web_screenshot.png')"
   ]
  },
  {
   "cell_type": "code",
   "execution_count": 109,
   "metadata": {},
   "outputs": [
    {
     "data": {
      "text/plain": [
       "3221"
      ]
     },
     "execution_count": 109,
     "metadata": {},
     "output_type": "execute_result"
    }
   ],
   "source": [
    "S('Height')"
   ]
  },
  {
   "cell_type": "code",
   "execution_count": 69,
   "metadata": {},
   "outputs": [],
   "source": [
    "df = pd.DataFrame(driver.execute_script('return performance.getEntries()'))"
   ]
  },
  {
   "cell_type": "code",
   "execution_count": 76,
   "metadata": {},
   "outputs": [],
   "source": [
    "timings = driver.execute_script('return performance.timing')"
   ]
  },
  {
   "cell_type": "code",
   "execution_count": 122,
   "metadata": {},
   "outputs": [],
   "source": [
    "x = list(timings.keys())"
   ]
  },
  {
   "cell_type": "code",
   "execution_count": 129,
   "metadata": {},
   "outputs": [
    {
     "data": {
      "text/plain": [
       "array(['domLoading', 'navigationStart'], dtype='<U26')"
      ]
     },
     "execution_count": 129,
     "metadata": {},
     "output_type": "execute_result"
    }
   ],
   "source": [
    "import numpy as np\n",
    "np.array(x)[[z not in df.columns for z in x]]"
   ]
  },
  {
   "cell_type": "code",
   "execution_count": 145,
   "metadata": {},
   "outputs": [],
   "source": [
    "import pickle\n",
    "pickle.dump(df, open('test', 'wb'))"
   ]
  },
  {
   "cell_type": "code",
   "execution_count": 146,
   "metadata": {},
   "outputs": [
    {
     "data": {
      "text/html": [
       "<div>\n",
       "<style scoped>\n",
       "    .dataframe tbody tr th:only-of-type {\n",
       "        vertical-align: middle;\n",
       "    }\n",
       "\n",
       "    .dataframe tbody tr th {\n",
       "        vertical-align: top;\n",
       "    }\n",
       "\n",
       "    .dataframe thead th {\n",
       "        text-align: right;\n",
       "    }\n",
       "</style>\n",
       "<table border=\"1\" class=\"dataframe\">\n",
       "  <thead>\n",
       "    <tr style=\"text-align: right;\">\n",
       "      <th></th>\n",
       "      <th>connectEnd</th>\n",
       "      <th>connectStart</th>\n",
       "      <th>decodedBodySize</th>\n",
       "      <th>domComplete</th>\n",
       "      <th>domContentLoadedEventEnd</th>\n",
       "      <th>domContentLoadedEventStart</th>\n",
       "      <th>domInteractive</th>\n",
       "      <th>domainLookupEnd</th>\n",
       "      <th>domainLookupStart</th>\n",
       "      <th>duration</th>\n",
       "      <th>...</th>\n",
       "      <th>responseEnd</th>\n",
       "      <th>responseStart</th>\n",
       "      <th>secureConnectionStart</th>\n",
       "      <th>serverTiming</th>\n",
       "      <th>startTime</th>\n",
       "      <th>transferSize</th>\n",
       "      <th>type</th>\n",
       "      <th>unloadEventEnd</th>\n",
       "      <th>unloadEventStart</th>\n",
       "      <th>workerStart</th>\n",
       "    </tr>\n",
       "  </thead>\n",
       "  <tbody>\n",
       "    <tr>\n",
       "      <th>0</th>\n",
       "      <td>441</td>\n",
       "      <td>441</td>\n",
       "      <td>67717</td>\n",
       "      <td>2914.0</td>\n",
       "      <td>1818.0</td>\n",
       "      <td>1740.0</td>\n",
       "      <td>1428.0</td>\n",
       "      <td>441</td>\n",
       "      <td>441</td>\n",
       "      <td>2921</td>\n",
       "      <td>...</td>\n",
       "      <td>715</td>\n",
       "      <td>712</td>\n",
       "      <td>0</td>\n",
       "      <td>[]</td>\n",
       "      <td>0</td>\n",
       "      <td>12387</td>\n",
       "      <td>navigate</td>\n",
       "      <td>0.0</td>\n",
       "      <td>0.0</td>\n",
       "      <td>0</td>\n",
       "    </tr>\n",
       "    <tr>\n",
       "      <th>1</th>\n",
       "      <td>0</td>\n",
       "      <td>0</td>\n",
       "      <td>0</td>\n",
       "      <td>NaN</td>\n",
       "      <td>NaN</td>\n",
       "      <td>NaN</td>\n",
       "      <td>NaN</td>\n",
       "      <td>0</td>\n",
       "      <td>0</td>\n",
       "      <td>293</td>\n",
       "      <td>...</td>\n",
       "      <td>1025</td>\n",
       "      <td>0</td>\n",
       "      <td>0</td>\n",
       "      <td>[]</td>\n",
       "      <td>732</td>\n",
       "      <td>0</td>\n",
       "      <td>NaN</td>\n",
       "      <td>NaN</td>\n",
       "      <td>NaN</td>\n",
       "      <td>0</td>\n",
       "    </tr>\n",
       "    <tr>\n",
       "      <th>2</th>\n",
       "      <td>1128</td>\n",
       "      <td>1128</td>\n",
       "      <td>13901</td>\n",
       "      <td>NaN</td>\n",
       "      <td>NaN</td>\n",
       "      <td>NaN</td>\n",
       "      <td>NaN</td>\n",
       "      <td>1128</td>\n",
       "      <td>1128</td>\n",
       "      <td>35</td>\n",
       "      <td>...</td>\n",
       "      <td>1163</td>\n",
       "      <td>1161</td>\n",
       "      <td>0</td>\n",
       "      <td>[]</td>\n",
       "      <td>1128</td>\n",
       "      <td>5102</td>\n",
       "      <td>NaN</td>\n",
       "      <td>NaN</td>\n",
       "      <td>NaN</td>\n",
       "      <td>0</td>\n",
       "    </tr>\n",
       "    <tr>\n",
       "      <th>3</th>\n",
       "      <td>1191</td>\n",
       "      <td>1135</td>\n",
       "      <td>53593</td>\n",
       "      <td>NaN</td>\n",
       "      <td>NaN</td>\n",
       "      <td>NaN</td>\n",
       "      <td>NaN</td>\n",
       "      <td>1135</td>\n",
       "      <td>1135</td>\n",
       "      <td>92</td>\n",
       "      <td>...</td>\n",
       "      <td>1221</td>\n",
       "      <td>1214</td>\n",
       "      <td>1160</td>\n",
       "      <td>[]</td>\n",
       "      <td>1129</td>\n",
       "      <td>8075</td>\n",
       "      <td>NaN</td>\n",
       "      <td>NaN</td>\n",
       "      <td>NaN</td>\n",
       "      <td>0</td>\n",
       "    </tr>\n",
       "    <tr>\n",
       "      <th>4</th>\n",
       "      <td>0</td>\n",
       "      <td>0</td>\n",
       "      <td>0</td>\n",
       "      <td>NaN</td>\n",
       "      <td>NaN</td>\n",
       "      <td>NaN</td>\n",
       "      <td>NaN</td>\n",
       "      <td>0</td>\n",
       "      <td>0</td>\n",
       "      <td>73</td>\n",
       "      <td>...</td>\n",
       "      <td>1203</td>\n",
       "      <td>0</td>\n",
       "      <td>0</td>\n",
       "      <td>[]</td>\n",
       "      <td>1130</td>\n",
       "      <td>0</td>\n",
       "      <td>NaN</td>\n",
       "      <td>NaN</td>\n",
       "      <td>NaN</td>\n",
       "      <td>0</td>\n",
       "    </tr>\n",
       "    <tr>\n",
       "      <th>...</th>\n",
       "      <td>...</td>\n",
       "      <td>...</td>\n",
       "      <td>...</td>\n",
       "      <td>...</td>\n",
       "      <td>...</td>\n",
       "      <td>...</td>\n",
       "      <td>...</td>\n",
       "      <td>...</td>\n",
       "      <td>...</td>\n",
       "      <td>...</td>\n",
       "      <td>...</td>\n",
       "      <td>...</td>\n",
       "      <td>...</td>\n",
       "      <td>...</td>\n",
       "      <td>...</td>\n",
       "      <td>...</td>\n",
       "      <td>...</td>\n",
       "      <td>...</td>\n",
       "      <td>...</td>\n",
       "      <td>...</td>\n",
       "      <td>...</td>\n",
       "    </tr>\n",
       "    <tr>\n",
       "      <th>67</th>\n",
       "      <td>0</td>\n",
       "      <td>0</td>\n",
       "      <td>0</td>\n",
       "      <td>NaN</td>\n",
       "      <td>NaN</td>\n",
       "      <td>NaN</td>\n",
       "      <td>NaN</td>\n",
       "      <td>0</td>\n",
       "      <td>0</td>\n",
       "      <td>51</td>\n",
       "      <td>...</td>\n",
       "      <td>2829</td>\n",
       "      <td>0</td>\n",
       "      <td>0</td>\n",
       "      <td>[]</td>\n",
       "      <td>2778</td>\n",
       "      <td>0</td>\n",
       "      <td>NaN</td>\n",
       "      <td>NaN</td>\n",
       "      <td>NaN</td>\n",
       "      <td>0</td>\n",
       "    </tr>\n",
       "    <tr>\n",
       "      <th>68</th>\n",
       "      <td>0</td>\n",
       "      <td>0</td>\n",
       "      <td>0</td>\n",
       "      <td>NaN</td>\n",
       "      <td>NaN</td>\n",
       "      <td>NaN</td>\n",
       "      <td>NaN</td>\n",
       "      <td>0</td>\n",
       "      <td>0</td>\n",
       "      <td>48</td>\n",
       "      <td>...</td>\n",
       "      <td>2827</td>\n",
       "      <td>0</td>\n",
       "      <td>0</td>\n",
       "      <td>[]</td>\n",
       "      <td>2779</td>\n",
       "      <td>0</td>\n",
       "      <td>NaN</td>\n",
       "      <td>NaN</td>\n",
       "      <td>NaN</td>\n",
       "      <td>0</td>\n",
       "    </tr>\n",
       "    <tr>\n",
       "      <th>69</th>\n",
       "      <td>0</td>\n",
       "      <td>0</td>\n",
       "      <td>0</td>\n",
       "      <td>NaN</td>\n",
       "      <td>NaN</td>\n",
       "      <td>NaN</td>\n",
       "      <td>NaN</td>\n",
       "      <td>0</td>\n",
       "      <td>0</td>\n",
       "      <td>48</td>\n",
       "      <td>...</td>\n",
       "      <td>2827</td>\n",
       "      <td>0</td>\n",
       "      <td>0</td>\n",
       "      <td>[]</td>\n",
       "      <td>2779</td>\n",
       "      <td>0</td>\n",
       "      <td>NaN</td>\n",
       "      <td>NaN</td>\n",
       "      <td>NaN</td>\n",
       "      <td>0</td>\n",
       "    </tr>\n",
       "    <tr>\n",
       "      <th>70</th>\n",
       "      <td>0</td>\n",
       "      <td>0</td>\n",
       "      <td>0</td>\n",
       "      <td>NaN</td>\n",
       "      <td>NaN</td>\n",
       "      <td>NaN</td>\n",
       "      <td>NaN</td>\n",
       "      <td>0</td>\n",
       "      <td>0</td>\n",
       "      <td>45</td>\n",
       "      <td>...</td>\n",
       "      <td>2826</td>\n",
       "      <td>0</td>\n",
       "      <td>0</td>\n",
       "      <td>[]</td>\n",
       "      <td>2781</td>\n",
       "      <td>0</td>\n",
       "      <td>NaN</td>\n",
       "      <td>NaN</td>\n",
       "      <td>NaN</td>\n",
       "      <td>0</td>\n",
       "    </tr>\n",
       "    <tr>\n",
       "      <th>71</th>\n",
       "      <td>0</td>\n",
       "      <td>0</td>\n",
       "      <td>0</td>\n",
       "      <td>NaN</td>\n",
       "      <td>NaN</td>\n",
       "      <td>NaN</td>\n",
       "      <td>NaN</td>\n",
       "      <td>0</td>\n",
       "      <td>0</td>\n",
       "      <td>34</td>\n",
       "      <td>...</td>\n",
       "      <td>2836</td>\n",
       "      <td>0</td>\n",
       "      <td>0</td>\n",
       "      <td>[]</td>\n",
       "      <td>2802</td>\n",
       "      <td>0</td>\n",
       "      <td>NaN</td>\n",
       "      <td>NaN</td>\n",
       "      <td>NaN</td>\n",
       "      <td>0</td>\n",
       "    </tr>\n",
       "  </tbody>\n",
       "</table>\n",
       "<p>72 rows × 32 columns</p>\n",
       "</div>"
      ],
      "text/plain": [
       "    connectEnd  connectStart  decodedBodySize  domComplete  \\\n",
       "0          441           441            67717       2914.0   \n",
       "1            0             0                0          NaN   \n",
       "2         1128          1128            13901          NaN   \n",
       "3         1191          1135            53593          NaN   \n",
       "4            0             0                0          NaN   \n",
       "..         ...           ...              ...          ...   \n",
       "67           0             0                0          NaN   \n",
       "68           0             0                0          NaN   \n",
       "69           0             0                0          NaN   \n",
       "70           0             0                0          NaN   \n",
       "71           0             0                0          NaN   \n",
       "\n",
       "    domContentLoadedEventEnd  domContentLoadedEventStart  domInteractive  \\\n",
       "0                     1818.0                      1740.0          1428.0   \n",
       "1                        NaN                         NaN             NaN   \n",
       "2                        NaN                         NaN             NaN   \n",
       "3                        NaN                         NaN             NaN   \n",
       "4                        NaN                         NaN             NaN   \n",
       "..                       ...                         ...             ...   \n",
       "67                       NaN                         NaN             NaN   \n",
       "68                       NaN                         NaN             NaN   \n",
       "69                       NaN                         NaN             NaN   \n",
       "70                       NaN                         NaN             NaN   \n",
       "71                       NaN                         NaN             NaN   \n",
       "\n",
       "    domainLookupEnd  domainLookupStart  duration  ...  responseEnd  \\\n",
       "0               441                441      2921  ...          715   \n",
       "1                 0                  0       293  ...         1025   \n",
       "2              1128               1128        35  ...         1163   \n",
       "3              1135               1135        92  ...         1221   \n",
       "4                 0                  0        73  ...         1203   \n",
       "..              ...                ...       ...  ...          ...   \n",
       "67                0                  0        51  ...         2829   \n",
       "68                0                  0        48  ...         2827   \n",
       "69                0                  0        48  ...         2827   \n",
       "70                0                  0        45  ...         2826   \n",
       "71                0                  0        34  ...         2836   \n",
       "\n",
       "   responseStart  secureConnectionStart serverTiming  startTime  transferSize  \\\n",
       "0            712                      0           []          0         12387   \n",
       "1              0                      0           []        732             0   \n",
       "2           1161                      0           []       1128          5102   \n",
       "3           1214                   1160           []       1129          8075   \n",
       "4              0                      0           []       1130             0   \n",
       "..           ...                    ...          ...        ...           ...   \n",
       "67             0                      0           []       2778             0   \n",
       "68             0                      0           []       2779             0   \n",
       "69             0                      0           []       2779             0   \n",
       "70             0                      0           []       2781             0   \n",
       "71             0                      0           []       2802             0   \n",
       "\n",
       "        type unloadEventEnd  unloadEventStart  workerStart  \n",
       "0   navigate            0.0               0.0            0  \n",
       "1        NaN            NaN               NaN            0  \n",
       "2        NaN            NaN               NaN            0  \n",
       "3        NaN            NaN               NaN            0  \n",
       "4        NaN            NaN               NaN            0  \n",
       "..       ...            ...               ...          ...  \n",
       "67       NaN            NaN               NaN            0  \n",
       "68       NaN            NaN               NaN            0  \n",
       "69       NaN            NaN               NaN            0  \n",
       "70       NaN            NaN               NaN            0  \n",
       "71       NaN            NaN               NaN            0  \n",
       "\n",
       "[72 rows x 32 columns]"
      ]
     },
     "execution_count": 146,
     "metadata": {},
     "output_type": "execute_result"
    }
   ],
   "source": [
    "pickle.load(open('test', 'rb'))"
   ]
  },
  {
   "cell_type": "code",
   "execution_count": 143,
   "metadata": {},
   "outputs": [
    {
     "ename": "TldDomainNotFound",
     "evalue": "Domain test.googl didn't match any existing TLD name!",
     "output_type": "error",
     "traceback": [
      "\u001b[0;31m------------------------------------------------------------------\u001b[0m",
      "\u001b[0;31mTldDomainNotFound\u001b[0m                Traceback (most recent call last)",
      "\u001b[0;32m<ipython-input-143-9fe2c4ab320a>\u001b[0m in \u001b[0;36m<module>\u001b[0;34m\u001b[0m\n\u001b[1;32m      1\u001b[0m \u001b[0;32mimport\u001b[0m \u001b[0mtld\u001b[0m\u001b[0;34m\u001b[0m\u001b[0;34m\u001b[0m\u001b[0m\n\u001b[0;32m----> 2\u001b[0;31m \u001b[0mres\u001b[0m \u001b[0;34m=\u001b[0m \u001b[0mtld\u001b[0m\u001b[0;34m.\u001b[0m\u001b[0mget_tld\u001b[0m\u001b[0;34m(\u001b[0m\u001b[0;34m\"http://test.googl/e/.co.uk/adkhasg/asf?asjasd=sad\"\u001b[0m\u001b[0;34m,\u001b[0m \u001b[0mas_object\u001b[0m\u001b[0;34m=\u001b[0m\u001b[0;32mTrue\u001b[0m\u001b[0;34m)\u001b[0m\u001b[0;34m\u001b[0m\u001b[0;34m\u001b[0m\u001b[0m\n\u001b[0m\u001b[1;32m      3\u001b[0m \u001b[0mres\u001b[0m\u001b[0;34m.\u001b[0m\u001b[0mfld\u001b[0m\u001b[0;34m\u001b[0m\u001b[0;34m\u001b[0m\u001b[0m\n\u001b[1;32m      4\u001b[0m \u001b[0mdomain\u001b[0m \u001b[0;34m=\u001b[0m \u001b[0;34m''\u001b[0m\u001b[0;34m\u001b[0m\u001b[0;34m\u001b[0m\u001b[0m\n\u001b[1;32m      5\u001b[0m \u001b[0;32mif\u001b[0m \u001b[0mres\u001b[0m\u001b[0;34m.\u001b[0m\u001b[0msubdomain\u001b[0m\u001b[0;34m:\u001b[0m\u001b[0;34m\u001b[0m\u001b[0;34m\u001b[0m\u001b[0m\n",
      "\u001b[0;32m/home/opt/anaconda/lib/python3.7/site-packages/tld/utils.py\u001b[0m in \u001b[0;36mget_tld\u001b[0;34m(url, fail_silently, as_object, fix_protocol, search_public, search_private, parser_class)\u001b[0m\n\u001b[1;32m    494\u001b[0m         \u001b[0msearch_public\u001b[0m\u001b[0;34m=\u001b[0m\u001b[0msearch_public\u001b[0m\u001b[0;34m,\u001b[0m\u001b[0;34m\u001b[0m\u001b[0;34m\u001b[0m\u001b[0m\n\u001b[1;32m    495\u001b[0m         \u001b[0msearch_private\u001b[0m\u001b[0;34m=\u001b[0m\u001b[0msearch_private\u001b[0m\u001b[0;34m,\u001b[0m\u001b[0;34m\u001b[0m\u001b[0;34m\u001b[0m\u001b[0m\n\u001b[0;32m--> 496\u001b[0;31m         \u001b[0mparser_class\u001b[0m\u001b[0;34m=\u001b[0m\u001b[0mparser_class\u001b[0m\u001b[0;34m\u001b[0m\u001b[0;34m\u001b[0m\u001b[0m\n\u001b[0m\u001b[1;32m    497\u001b[0m     )\n\u001b[1;32m    498\u001b[0m \u001b[0;34m\u001b[0m\u001b[0m\n",
      "\u001b[0;32m/home/opt/anaconda/lib/python3.7/site-packages/tld/utils.py\u001b[0m in \u001b[0;36mprocess_url\u001b[0;34m(url, fail_silently, fix_protocol, search_public, search_private, parser_class)\u001b[0m\n\u001b[1;32m    379\u001b[0m             \u001b[0;32mreturn\u001b[0m \u001b[0;32mNone\u001b[0m\u001b[0;34m,\u001b[0m \u001b[0;32mNone\u001b[0m\u001b[0;34m,\u001b[0m \u001b[0mparsed_url\u001b[0m\u001b[0;34m\u001b[0m\u001b[0;34m\u001b[0m\u001b[0m\n\u001b[1;32m    380\u001b[0m         \u001b[0;32melse\u001b[0m\u001b[0;34m:\u001b[0m\u001b[0;34m\u001b[0m\u001b[0;34m\u001b[0m\u001b[0m\n\u001b[0;32m--> 381\u001b[0;31m             \u001b[0;32mraise\u001b[0m \u001b[0mTldDomainNotFound\u001b[0m\u001b[0;34m(\u001b[0m\u001b[0mdomain_name\u001b[0m\u001b[0;34m=\u001b[0m\u001b[0mdomain_name\u001b[0m\u001b[0;34m)\u001b[0m\u001b[0;34m\u001b[0m\u001b[0;34m\u001b[0m\u001b[0m\n\u001b[0m\u001b[1;32m    382\u001b[0m \u001b[0;34m\u001b[0m\u001b[0m\n\u001b[1;32m    383\u001b[0m     \u001b[0;32mif\u001b[0m \u001b[0mlen_domain_parts\u001b[0m \u001b[0;34m==\u001b[0m \u001b[0mtld_length\u001b[0m\u001b[0;34m:\u001b[0m\u001b[0;34m\u001b[0m\u001b[0;34m\u001b[0m\u001b[0m\n",
      "\u001b[0;31mTldDomainNotFound\u001b[0m: Domain test.googl didn't match any existing TLD name!"
     ]
    }
   ],
   "source": [
    "import tld\n",
    "res = tld.get_tld(\"http://test.googl/e/.co.uk/adkhasg/asf?asjasd=sad\", as_object=True)\n",
    "res.fld\n",
    "domain = ''\n",
    "if res.subdomain:\n",
    "    domain = res.subdomain+'.'\n",
    "domain += res.fld\n",
    "domain"
   ]
  },
  {
   "cell_type": "code",
   "execution_count": 44,
   "metadata": {},
   "outputs": [
    {
     "data": {
      "text/plain": [
       "True"
      ]
     },
     "execution_count": 44,
     "metadata": {},
     "output_type": "execute_result"
    }
   ],
   "source": [
    "driver.get('https://ok.nl/blub')\n",
    "driver.save_screenshot(\"screenshot2.png\")"
   ]
  },
  {
   "cell_type": "code",
   "execution_count": 45,
   "metadata": {},
   "outputs": [],
   "source": [
    "driver.close()"
   ]
  },
  {
   "cell_type": "code",
   "execution_count": 40,
   "metadata": {},
   "outputs": [
    {
     "data": {
      "text/plain": [
       "True"
      ]
     },
     "execution_count": 40,
     "metadata": {},
     "output_type": "execute_result"
    }
   ],
   "source": [
    "driver.save_screenshot(\"screenshot2.png\")"
   ]
  },
  {
   "cell_type": "code",
   "execution_count": 41,
   "metadata": {},
   "outputs": [
    {
     "data": {
      "text/plain": [
       "True"
      ]
     },
     "execution_count": 41,
     "metadata": {},
     "output_type": "execute_result"
    }
   ],
   "source": [
    "driver.get('https://simonnouwens.nl')\n",
    "driver.save_screenshot(\"screenshot2.png\")"
   ]
  },
  {
   "cell_type": "code",
   "execution_count": 3,
   "metadata": {},
   "outputs": [],
   "source": [
    "ob = Screenshot()"
   ]
  },
  {
   "cell_type": "code",
   "execution_count": 5,
   "metadata": {},
   "outputs": [
    {
     "data": {
      "text/plain": [
       "'/home/script/site_health/research/Myimage.png'"
      ]
     },
     "execution_count": 5,
     "metadata": {},
     "output_type": "execute_result"
    }
   ],
   "source": [
    "ob.full_Screenshot(driver, save_path=r'.', image_name='Myimage.png')"
   ]
  },
  {
   "cell_type": "code",
   "execution_count": 22,
   "metadata": {},
   "outputs": [
    {
     "ename": "AttributeError",
     "evalue": "module 'requests' has no attribute 'header'",
     "output_type": "error",
     "traceback": [
      "\u001b[0;31m---------------------------------------------------------------------------\u001b[0m",
      "\u001b[0;31mAttributeError\u001b[0m                            Traceback (most recent call last)",
      "\u001b[0;32m<ipython-input-22-05b7482dc12e>\u001b[0m in \u001b[0;36m<module>\u001b[0;34m\u001b[0m\n\u001b[1;32m      1\u001b[0m \u001b[0;32mimport\u001b[0m \u001b[0mrequests\u001b[0m\u001b[0;34m\u001b[0m\u001b[0;34m\u001b[0m\u001b[0m\n\u001b[0;32m----> 2\u001b[0;31m \u001b[0mresponse\u001b[0m \u001b[0;34m=\u001b[0m \u001b[0mrequests\u001b[0m\u001b[0;34m.\u001b[0m\u001b[0mheader\u001b[0m\u001b[0;34m(\u001b[0m\u001b[0;34m'https://ok.nl/overzicht-tankstations'\u001b[0m\u001b[0;34m)\u001b[0m\u001b[0;34m\u001b[0m\u001b[0;34m\u001b[0m\u001b[0m\n\u001b[0m\u001b[1;32m      3\u001b[0m \u001b[0mprint\u001b[0m\u001b[0;34m(\u001b[0m\u001b[0mresponse\u001b[0m\u001b[0;34m.\u001b[0m\u001b[0melapsed\u001b[0m\u001b[0;34m.\u001b[0m\u001b[0mtotal_seconds\u001b[0m\u001b[0;34m(\u001b[0m\u001b[0;34m)\u001b[0m\u001b[0;34m)\u001b[0m\u001b[0;34m\u001b[0m\u001b[0;34m\u001b[0m\u001b[0m\n",
      "\u001b[0;31mAttributeError\u001b[0m: module 'requests' has no attribute 'header'"
     ]
    }
   ],
   "source": [
    "import requests\n",
    "response = requests.header('https://ok.nl/overzicht-tankstations')\n",
    "print(response.elapsed.total_seconds())"
   ]
  },
  {
   "cell_type": "code",
   "execution_count": 20,
   "metadata": {},
   "outputs": [
    {
     "data": {
      "text/plain": [
       "datetime.timedelta(microseconds=449703)"
      ]
     },
     "execution_count": 20,
     "metadata": {},
     "output_type": "execute_result"
    }
   ],
   "source": [
    "response.elapsed"
   ]
  }
 ],
 "metadata": {
  "kernelspec": {
   "display_name": "Python 3",
   "language": "python",
   "name": "python3"
  },
  "language_info": {
   "codemirror_mode": {
    "name": "ipython",
    "version": 3
   },
   "file_extension": ".py",
   "mimetype": "text/x-python",
   "name": "python",
   "nbconvert_exporter": "python",
   "pygments_lexer": "ipython3",
   "version": "3.7.6"
  }
 },
 "nbformat": 4,
 "nbformat_minor": 4
}
