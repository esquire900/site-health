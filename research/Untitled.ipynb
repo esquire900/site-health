{
 "cells": [
  {
   "cell_type": "code",
   "execution_count": 24,
   "metadata": {},
   "outputs": [],
   "source": [
    "from bs4 import BeautifulSoup\n",
    "\n",
    "def xpath_soup(element):\n",
    "    # type: (typing.Union[bs4.element.Tag, bs4.element.NavigableString]) -> str\n",
    "    \"\"\"\n",
    "    Generate xpath from BeautifulSoup4 element.\n",
    "    :param element: BeautifulSoup4 element.\n",
    "    :type element: bs4.element.Tag or bs4.element.NavigableString\n",
    "    :return: xpath as string\n",
    "    :rtype: str\n",
    "    \"\"\"\n",
    "    components = []\n",
    "    child = element if element.name else element.parent\n",
    "    for parent in child.parents:  # type: bs4.element.Tag\n",
    "        siblings = parent.find_all(child.name, recursive=False)\n",
    "        components.append(\n",
    "            child.name if 1 == len(siblings) else '%s[%d]' % (\n",
    "                child.name,\n",
    "                next(i for i, s in enumerate(siblings, 1) if s is child)\n",
    "                )\n",
    "            )\n",
    "        child = parent\n",
    "    components.reverse()\n",
    "    return '/%s' % '/'.join(components)\n",
    "\n"
   ]
  },
  {
   "cell_type": "code",
   "execution_count": 89,
   "metadata": {},
   "outputs": [],
   "source": [
    "soup = BeautifulSoup(open('./html/ok-cadzand.html'))\n",
    "\n",
    "# kill all script and style elements\n",
    "for script in soup([\"script\", \"style\"]):\n",
    "    script.decompose()    # rip it out"
   ]
  },
  {
   "cell_type": "code",
   "execution_count": 90,
   "metadata": {},
   "outputs": [],
   "source": [
    "import re\n",
    "\n",
    "texts = [t for t in soup.text.split('\\n') if len(t) > 0]\n",
    "xpaths = []\n",
    "\n",
    "text_elements = []\n",
    "for t in texts:\n",
    "#     el = soup.find(text=t)\n",
    "    el = soup.find(text=re.compile(t))\n",
    "    if el:\n",
    "        xpath = xpath_soup(el)\n",
    "        text_elements.append({\n",
    "            'text': t,\n",
    "            'xpath': xpath\n",
    "        })"
   ]
  },
  {
   "cell_type": "code",
   "execution_count": 91,
   "metadata": {},
   "outputs": [],
   "source": [
    "import pandas as pd\n",
    "df = pd.DataFrame(text_elements)\n",
    "df['xpath_nonumb'] = df.xpath.apply(lambda s: ''.join([i for i in s if not i.isdigit()]))"
   ]
  },
  {
   "cell_type": "code",
   "execution_count": 94,
   "metadata": {},
   "outputs": [
    {
     "name": "stdout",
     "output_type": "stream",
     "text": [
      "/html/body/div[]/div\n",
      "/html/body/div[]/div/div/button/span\n",
      "/html/body/div[]/div/div/div/div/div/div[]/div/div[]/a\n",
      "/html/body/div[]/div/div[]/div/div/div[]/div/div/div/article/div/div[]/div[]\n",
      "/html/body/div[]/div/div[]/div/div/div[]/div/div/div/article/div/div[]/div[]/a\n",
      "/html/body/div[]/div/div[]/div/div/div[]/div/div/div/article/div/div[]/div[]/h\n",
      "/html/body/div[]/div/div[]/div/div/div[]/div/div/div/article/div/div[]/h\n",
      "/html/body/div[]/div/div[]/div/div/div[]/div/div/div/article/div/div[]/p\n",
      "/html/body/div[]/div/footer/div[]/div/div[]/div/div/p[]\n",
      "/html/body/div[]/div/footer/div[]/div/ul/li[]/a\n",
      "/html/body/div[]/div/footer/div[]/div/ul/li[]/a/span\n",
      "/html/body/div[]/header/div[]/div[]/div[]/div/span[]\n",
      "/html/body/div[]/header/div[]/div[]/nav/ul/li[]/a\n",
      "/html/body/div[]/header/div[]/div[]/nav/ul/li[]/ul/li[]/a\n",
      "/html/body/div[]/header/div[]/div[]/nav/ul/li[]/ul/li[]/ul/li[]/a\n",
      "/html/head/title\n"
     ]
    }
   ],
   "source": [
    "for x in df.groupby(df['xpath_nonumb']).count().sort_index().index:\n",
    "    print(x)"
   ]
  },
  {
   "cell_type": "code",
   "execution_count": 92,
   "metadata": {},
   "outputs": [
    {
     "data": {
      "text/html": [
       "<div>\n",
       "<style scoped>\n",
       "    .dataframe tbody tr th:only-of-type {\n",
       "        vertical-align: middle;\n",
       "    }\n",
       "\n",
       "    .dataframe tbody tr th {\n",
       "        vertical-align: top;\n",
       "    }\n",
       "\n",
       "    .dataframe thead th {\n",
       "        text-align: right;\n",
       "    }\n",
       "</style>\n",
       "<table border=\"1\" class=\"dataframe\">\n",
       "  <thead>\n",
       "    <tr style=\"text-align: right;\">\n",
       "      <th></th>\n",
       "      <th>text</th>\n",
       "      <th>xpath</th>\n",
       "      <th>xpath_nonumb</th>\n",
       "    </tr>\n",
       "    <tr>\n",
       "      <th>xpath_nonumb</th>\n",
       "      <th></th>\n",
       "      <th></th>\n",
       "      <th></th>\n",
       "    </tr>\n",
       "  </thead>\n",
       "  <tbody>\n",
       "    <tr>\n",
       "      <th>/html/body/div[]/div</th>\n",
       "      <td>2</td>\n",
       "      <td>2</td>\n",
       "      <td>2</td>\n",
       "    </tr>\n",
       "    <tr>\n",
       "      <th>/html/body/div[]/div/div/button/span</th>\n",
       "      <td>1</td>\n",
       "      <td>1</td>\n",
       "      <td>1</td>\n",
       "    </tr>\n",
       "    <tr>\n",
       "      <th>/html/body/div[]/div/div/div/div/div/div[]/div/div[]/a</th>\n",
       "      <td>1</td>\n",
       "      <td>1</td>\n",
       "      <td>1</td>\n",
       "    </tr>\n",
       "    <tr>\n",
       "      <th>/html/body/div[]/div/div[]/div/div/div[]/div/div/div/article/div/div[]/div[]</th>\n",
       "      <td>7</td>\n",
       "      <td>7</td>\n",
       "      <td>7</td>\n",
       "    </tr>\n",
       "    <tr>\n",
       "      <th>/html/body/div[]/div/div[]/div/div/div[]/div/div/div/article/div/div[]/div[]/a</th>\n",
       "      <td>2</td>\n",
       "      <td>2</td>\n",
       "      <td>2</td>\n",
       "    </tr>\n",
       "    <tr>\n",
       "      <th>/html/body/div[]/div/div[]/div/div/div[]/div/div/div/article/div/div[]/div[]/h</th>\n",
       "      <td>2</td>\n",
       "      <td>2</td>\n",
       "      <td>2</td>\n",
       "    </tr>\n",
       "    <tr>\n",
       "      <th>/html/body/div[]/div/div[]/div/div/div[]/div/div/div/article/div/div[]/h</th>\n",
       "      <td>1</td>\n",
       "      <td>1</td>\n",
       "      <td>1</td>\n",
       "    </tr>\n",
       "    <tr>\n",
       "      <th>/html/body/div[]/div/div[]/div/div/div[]/div/div/div/article/div/div[]/p</th>\n",
       "      <td>2</td>\n",
       "      <td>2</td>\n",
       "      <td>2</td>\n",
       "    </tr>\n",
       "    <tr>\n",
       "      <th>/html/body/div[]/div/footer/div[]/div/div[]/div/div/p[]</th>\n",
       "      <td>16</td>\n",
       "      <td>16</td>\n",
       "      <td>16</td>\n",
       "    </tr>\n",
       "    <tr>\n",
       "      <th>/html/body/div[]/div/footer/div[]/div/ul/li[]/a</th>\n",
       "      <td>5</td>\n",
       "      <td>5</td>\n",
       "      <td>5</td>\n",
       "    </tr>\n",
       "    <tr>\n",
       "      <th>/html/body/div[]/div/footer/div[]/div/ul/li[]/a/span</th>\n",
       "      <td>3</td>\n",
       "      <td>3</td>\n",
       "      <td>3</td>\n",
       "    </tr>\n",
       "    <tr>\n",
       "      <th>/html/body/div[]/header/div[]/div[]/div[]/div/span[]</th>\n",
       "      <td>1</td>\n",
       "      <td>1</td>\n",
       "      <td>1</td>\n",
       "    </tr>\n",
       "    <tr>\n",
       "      <th>/html/body/div[]/header/div[]/div[]/nav/ul/li[]/a</th>\n",
       "      <td>8</td>\n",
       "      <td>8</td>\n",
       "      <td>8</td>\n",
       "    </tr>\n",
       "    <tr>\n",
       "      <th>/html/body/div[]/header/div[]/div[]/nav/ul/li[]/ul/li[]/a</th>\n",
       "      <td>17</td>\n",
       "      <td>17</td>\n",
       "      <td>17</td>\n",
       "    </tr>\n",
       "    <tr>\n",
       "      <th>/html/body/div[]/header/div[]/div[]/nav/ul/li[]/ul/li[]/ul/li[]/a</th>\n",
       "      <td>20</td>\n",
       "      <td>20</td>\n",
       "      <td>20</td>\n",
       "    </tr>\n",
       "    <tr>\n",
       "      <th>/html/head/title</th>\n",
       "      <td>20</td>\n",
       "      <td>20</td>\n",
       "      <td>20</td>\n",
       "    </tr>\n",
       "  </tbody>\n",
       "</table>\n",
       "</div>"
      ],
      "text/plain": [
       "                                                    text  xpath  xpath_nonumb\n",
       "xpath_nonumb                                                                 \n",
       "/html/body/div[]/div                                   2      2             2\n",
       "/html/body/div[]/div/div/button/span                   1      1             1\n",
       "/html/body/div[]/div/div/div/div/div/div[]/div/...     1      1             1\n",
       "/html/body/div[]/div/div[]/div/div/div[]/div/di...     7      7             7\n",
       "/html/body/div[]/div/div[]/div/div/div[]/div/di...     2      2             2\n",
       "/html/body/div[]/div/div[]/div/div/div[]/div/di...     2      2             2\n",
       "/html/body/div[]/div/div[]/div/div/div[]/div/di...     1      1             1\n",
       "/html/body/div[]/div/div[]/div/div/div[]/div/di...     2      2             2\n",
       "/html/body/div[]/div/footer/div[]/div/div[]/div...    16     16            16\n",
       "/html/body/div[]/div/footer/div[]/div/ul/li[]/a        5      5             5\n",
       "/html/body/div[]/div/footer/div[]/div/ul/li[]/a...     3      3             3\n",
       "/html/body/div[]/header/div[]/div[]/div[]/div/s...     1      1             1\n",
       "/html/body/div[]/header/div[]/div[]/nav/ul/li[]/a      8      8             8\n",
       "/html/body/div[]/header/div[]/div[]/nav/ul/li[]...    17     17            17\n",
       "/html/body/div[]/header/div[]/div[]/nav/ul/li[]...    20     20            20\n",
       "/html/head/title                                      20     20            20"
      ]
     },
     "execution_count": 92,
     "metadata": {},
     "output_type": "execute_result"
    }
   ],
   "source": [
    "df.groupby(df['xpath_nonumb']).count().sort_index()"
   ]
  },
  {
   "cell_type": "code",
   "execution_count": 96,
   "metadata": {},
   "outputs": [],
   "source": [
    "import requests\n",
    "r = requests.get('https://simonnouwens.nl')"
   ]
  },
  {
   "cell_type": "code",
   "execution_count": 100,
   "metadata": {},
   "outputs": [],
   "source": [
    "import pickle\n",
    "with open('./test.pkl', 'wb') as f:\n",
    "    pickle.dump(r, f)"
   ]
  },
  {
   "cell_type": "code",
   "execution_count": 110,
   "metadata": {},
   "outputs": [
    {
     "data": {
      "text/plain": [
       "b'20210803120000Z'"
      ]
     },
     "execution_count": 110,
     "metadata": {},
     "output_type": "execute_result"
    }
   ],
   "source": [
    "import OpenSSL\n",
    "import ssl, socket\n",
    "cert=ssl.get_server_certificate(('www.simonnouwens.nl', 443))\n",
    "x509 = OpenSSL.crypto.load_certificate(OpenSSL.crypto.FILETYPE_PEM, cert)\n",
    "x509.get_notAfter()"
   ]
  },
  {
   "cell_type": "code",
   "execution_count": 114,
   "metadata": {},
   "outputs": [
    {
     "data": {
      "text/plain": [
       "b'20200615000000Z'"
      ]
     },
     "execution_count": 114,
     "metadata": {},
     "output_type": "execute_result"
    }
   ],
   "source": []
  },
  {
   "cell_type": "code",
   "execution_count": 122,
   "metadata": {},
   "outputs": [],
   "source": [
    "r = requests.head('https://httpbin.org/get')"
   ]
  },
  {
   "cell_type": "code",
   "execution_count": 127,
   "metadata": {},
   "outputs": [
    {
     "data": {
      "text/plain": [
       "{'Date': 'Sat, 20 Jun 2020 12:39:48 GMT', 'Content-Type': 'application/json', 'Content-Length': '307', 'Connection': 'keep-alive', 'Server': 'gunicorn/19.9.0', 'Access-Control-Allow-Origin': '*', 'Access-Control-Allow-Credentials': 'true'}"
      ]
     },
     "execution_count": 127,
     "metadata": {},
     "output_type": "execute_result"
    }
   ],
   "source": [
    "r.headers"
   ]
  }
 ],
 "metadata": {
  "kernelspec": {
   "display_name": "Python 3",
   "language": "python",
   "name": "python3"
  },
  "language_info": {
   "codemirror_mode": {
    "name": "ipython",
    "version": 3
   },
   "file_extension": ".py",
   "mimetype": "text/x-python",
   "name": "python",
   "nbconvert_exporter": "python",
   "pygments_lexer": "ipython3",
   "version": "3.7.6"
  }
 },
 "nbformat": 4,
 "nbformat_minor": 4
}
