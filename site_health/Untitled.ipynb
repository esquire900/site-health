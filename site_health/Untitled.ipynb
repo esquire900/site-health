{
 "cells": [
  {
   "cell_type": "code",
   "execution_count": 1,
   "metadata": {},
   "outputs": [],
   "source": [
    "%load_ext autoreload\n",
    "%autoreload 2\n",
    "import os\n",
    "os.environ[\"DJANGO_ALLOW_ASYNC_UNSAFE\"] = \"true\"\n",
    "from site_health.users.models import User\n",
    "from website.models import Site\n",
    "from scraper.models import *\n",
    "from metric.models import *\n",
    "from scraper.tasks import *\n",
    "user = User.objects.get(username='simon')\n",
    "# page = Page.objects.all().last()\n",
    "site = Site.objects.get_or_create(url='https://www.simonnouwens.nl', owner=user)[0]\n",
    "site = Site.objects.get_or_create(url='https://www.ok.nl', owner=user)[0]"
   ]
  },
  {
   "cell_type": "code",
   "execution_count": 56,
   "metadata": {},
   "outputs": [],
   "source": [
    "scraper = HeadersScraper().factory(page=site.page_set.all()[0])"
   ]
  },
  {
   "cell_type": "code",
   "execution_count": 34,
   "metadata": {},
   "outputs": [
    {
     "data": {
      "text/plain": [
       "<Response [301]>"
      ]
     },
     "execution_count": 34,
     "metadata": {},
     "output_type": "execute_result"
    }
   ],
   "source": [
    "scraper.get_data()"
   ]
  },
  {
   "cell_type": "code",
   "execution_count": 61,
   "metadata": {},
   "outputs": [
    {
     "data": {
      "text/plain": [
       "{'Server': 'nginx', 'Date': 'Wed, 24 Jun 2020 14:00:26 GMT', 'Content-Type': 'text/html; charset=UTF-8', 'Connection': 'keep-alive', 'X-Powered-By': 'PHP/7.3.19, PleskLin', 'Expires': 'Wed, 24 Jun 2020 15:00:26 GMT', 'Cache-Control': 'max-age=3600', 'X-Redirect-By': 'WordPress', 'Vary': 'Accept-Encoding,User-Agent', 'Location': 'https://ok.nl/', 'Access-Control-Allow-Origin': '*, *', 'Referrer-Policy': 'no-referrer-when-downgrade'}"
      ]
     },
     "execution_count": 61,
     "metadata": {},
     "output_type": "execute_result"
    }
   ],
   "source": [
    "scraper.get_data().headers"
   ]
  },
  {
   "cell_type": "code",
   "execution_count": 41,
   "metadata": {},
   "outputs": [],
   "source": [
    "scraper = GetScraper().factory(page=site.page_set.all()[0])"
   ]
  },
  {
   "cell_type": "code",
   "execution_count": 67,
   "metadata": {},
   "outputs": [
    {
     "data": {
      "text/plain": [
       "{'_state': <django.db.models.base.ModelState at 0x7f80cdbb3f10>,\n",
       " 'id': UUID('293a90dc-7e2c-4f4f-a245-e93d4b099fa0'),\n",
       " 'page_id': 150,\n",
       " 'scraped_at': datetime.datetime(2020, 6, 24, 14, 0, 25, 109704, tzinfo=<UTC>),\n",
       " 'status': 1}"
      ]
     },
     "execution_count": 67,
     "metadata": {},
     "output_type": "execute_result"
    }
   ],
   "source": [
    "scraper.__dict__"
   ]
  },
  {
   "cell_type": "code",
   "execution_count": 3,
   "metadata": {},
   "outputs": [],
   "source": [
    "RedirectMetrics().factory(site.page_set.all()[0]).run()"
   ]
  },
  {
   "cell_type": "code",
   "execution_count": 2,
   "metadata": {},
   "outputs": [],
   "source": [
    "scraper = SeleniumScraper().factory(site.page_set.all()[0])\n",
    "scraper.wait_ms_before_screenshot = 500\n",
    "scraper.take_screenshot=True\n",
    "scraper.save()"
   ]
  },
  {
   "cell_type": "code",
   "execution_count": 3,
   "metadata": {},
   "outputs": [
    {
     "name": "stderr",
     "output_type": "stream",
     "text": [
      "INFO 2020-06-24 14:53:55,773 trace 139254 140219026143040 Task scraper.tasks.selenium_scraper_execute[14a38f76-53f5-46d4-a943-33fccee74b1a] succeeded in 14.4049404230027s: None\n"
     ]
    },
    {
     "data": {
      "text/plain": [
       "<EagerResult: 14a38f76-53f5-46d4-a943-33fccee74b1a>"
      ]
     },
     "execution_count": 3,
     "metadata": {},
     "output_type": "execute_result"
    }
   ],
   "source": [
    "selenium_scraper_execute.delay(scraper.id)"
   ]
  },
  {
   "cell_type": "code",
   "execution_count": 31,
   "metadata": {},
   "outputs": [],
   "source": [
    "from celery.task.control import inspect"
   ]
  },
  {
   "cell_type": "code",
   "execution_count": 42,
   "metadata": {},
   "outputs": [
    {
     "data": {
      "text/plain": [
       "(<Page: https://simonnouwens.nl>, True)"
      ]
     },
     "execution_count": 42,
     "metadata": {},
     "output_type": "execute_result"
    }
   ],
   "source": [
    "Page.objects.get_or_create(url_part='', site=Site.objects.all()[0])"
   ]
  }
 ],
 "metadata": {
  "kernelspec": {
   "display_name": "Django Shell-Plus",
   "language": "python",
   "name": "django_extensions"
  },
  "language_info": {
   "codemirror_mode": {
    "name": "ipython",
    "version": 3
   },
   "file_extension": ".py",
   "mimetype": "text/x-python",
   "name": "python",
   "nbconvert_exporter": "python",
   "pygments_lexer": "ipython3",
   "version": "3.7.6"
  }
 },
 "nbformat": 4,
 "nbformat_minor": 4
}
