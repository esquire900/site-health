{
 "cells": [
  {
   "cell_type": "code",
   "execution_count": 1,
   "metadata": {},
   "outputs": [],
   "source": [
    "%load_ext autoreload\n",
    "%autoreload 2\n",
    "import os\n",
    "os.environ[\"DJANGO_ALLOW_ASYNC_UNSAFE\"] = \"true\"\n",
    "from site_health.users.models import User\n",
    "from site_health.website.models import Site\n",
    "from site_health.scraper.models import *\n",
    "from site_health.metric.models import *\n",
    "from site_health.scraper.tasks import *\n",
    "user = User.objects.get(username='simon')\n",
    "# page = Page.objects.all().last()\n",
    "# site = Site.objects.get_or_create(url='https://www.simonnouwens.nl', owner=user)[0]\n",
    "site = Site.objects.get_or_create(url='https://ok.nl', owner=user)[0]\n",
    "# page = Page.objects.get_or_create(site=site, url_part='')"
   ]
  },
  {
   "cell_type": "code",
   "execution_count": 27,
   "metadata": {},
   "outputs": [],
   "source": [
    "site = Site.objects.get_or_create(url='https://bogatech.nl', owner=user)"
   ]
  },
  {
   "cell_type": "code",
   "execution_count": 26,
   "metadata": {},
   "outputs": [],
   "source": [
    "site[0].delete()"
   ]
  },
  {
   "cell_type": "code",
   "execution_count": 21,
   "metadata": {},
   "outputs": [
    {
     "data": {
      "text/plain": [
       "601"
      ]
     },
     "execution_count": 21,
     "metadata": {},
     "output_type": "execute_result"
    }
   ],
   "source": [
    "tdiff_seconds = 500\n",
    "import numpy as np\n",
    "np.random.randint(\n",
    "            np.round(tdiff_seconds * 0.7), np.round(tdiff_seconds * 1.3)\n",
    "        )"
   ]
  },
  {
   "cell_type": "code",
   "execution_count": 11,
   "metadata": {},
   "outputs": [],
   "source": [
    "scraper = PageScraper.objects.get(id='b384faa9-8717-46cb-b34d-ba3cca1abf1d')"
   ]
  },
  {
   "cell_type": "code",
   "execution_count": 12,
   "metadata": {},
   "outputs": [],
   "source": [
    "data = scraper.run()"
   ]
  },
  {
   "cell_type": "code",
   "execution_count": 16,
   "metadata": {},
   "outputs": [
    {
     "data": {
      "text/plain": [
       "['https://bogatech.nl/',\n",
       " 'https://bogatech.nl/project/',\n",
       " 'https://bogatech.nl/catalogus/',\n",
       " 'https://bogatech.nl/project/buizen-en-verbindingen-volgens-din/',\n",
       " 'https://bogatech.nl/project/buisophanging-isolatie-en-toebehoren/',\n",
       " 'https://bogatech.nl/project/kunststof-leidingssystemen-en-toebehoren/',\n",
       " 'https://bogatech.nl/project/bevestigingsmaterialen/',\n",
       " 'https://bogatech.nl/project/kleine-ijzerwaren/',\n",
       " 'https://bogatech.nl/project/elektrisch-gereedschap/',\n",
       " 'https://bogatech.nl/project/handgereedschap/',\n",
       " 'https://bogatech.nl/project/kleding-en-veiligheid/',\n",
       " 'https://bogatech.nl/project/schoonmaakmiddelen/',\n",
       " 'https://bogatech.nl/project/afdichtingskitten-en-lijmen/',\n",
       " 'https://bogatech.nl/project/chemische-producten/',\n",
       " 'https://bogatech.nl/project/electro-installatie/',\n",
       " 'https://bogatech.nl/project/verven',\n",
       " 'https://bogatech.nl/contact/',\n",
       " 'https://bogatech.nl/catalogus',\n",
       " 'https://bogatech.nl/project/verven/',\n",
       " 'https://bogatech.nl/project/schoonmaakartikelen/',\n",
       " 'https://bogatech.nl/project',\n",
       " 'https://bogatech.nl/contact']"
      ]
     },
     "execution_count": 16,
     "metadata": {},
     "output_type": "execute_result"
    }
   ],
   "source": [
    "scraper.get_html_processor().extract_urls_to_self()"
   ]
  },
  {
   "cell_type": "code",
   "execution_count": 23,
   "metadata": {},
   "outputs": [
    {
     "data": {
      "text/plain": [
       "'2020-06-29 11:28:07.240905+00:00'"
      ]
     },
     "execution_count": 23,
     "metadata": {},
     "output_type": "execute_result"
    }
   ],
   "source": [
    "str(timezone.now())"
   ]
  },
  {
   "cell_type": "code",
   "execution_count": 14,
   "metadata": {},
   "outputs": [
    {
     "data": {
      "text/plain": [
       "'https://www.ok.nl'"
      ]
     },
     "execution_count": 14,
     "metadata": {},
     "output_type": "execute_result"
    }
   ],
   "source": [
    "link[: len(str(processor.page.site.url))]\n",
    "str(processor.page.site.url)    "
   ]
  },
  {
   "cell_type": "code",
   "execution_count": 25,
   "metadata": {},
   "outputs": [
    {
     "data": {
      "text/plain": [
       "<AsyncResult: b52f13fc-b398-4726-a3c6-d11cefb72bc4>"
      ]
     },
     "execution_count": 25,
     "metadata": {},
     "output_type": "execute_result"
    }
   ],
   "source": [
    "run_scraper.delay('ssl', '731ad7bb-7eb8-4ee1-ac09-ef61c2aa35f1')"
   ]
  },
  {
   "cell_type": "code",
   "execution_count": 41,
   "metadata": {},
   "outputs": [],
   "source": [
    "scraper = GetScraper().factory(page=site.page_set.all()[0])"
   ]
  },
  {
   "cell_type": "code",
   "execution_count": 3,
   "metadata": {},
   "outputs": [],
   "source": [
    "RedirectMetrics().factory(site.page_set.all()[0]).run()"
   ]
  },
  {
   "cell_type": "code",
   "execution_count": 22,
   "metadata": {},
   "outputs": [],
   "source": [
    "scraper = PageBrowserScraper().factory(site.page_set.all()[0])\n",
    "scraper.wait_ms_before_screenshot = 500\n",
    "scraper.take_screenshot=True\n",
    "scraper.save()"
   ]
  },
  {
   "cell_type": "code",
   "execution_count": 23,
   "metadata": {},
   "outputs": [
    {
     "data": {
      "text/plain": [
       "<AsyncResult: a48ff57a-49b5-4d14-9d1f-a428783b004c>"
      ]
     },
     "execution_count": 23,
     "metadata": {},
     "output_type": "execute_result"
    }
   ],
   "source": [
    "selenium_scraper_execute.delay(scraper.id)"
   ]
  },
  {
   "cell_type": "code",
   "execution_count": 6,
   "metadata": {},
   "outputs": [
    {
     "data": {
      "text/plain": [
       "<QuerySet [<Page: https://www.ok.nl>]>"
      ]
     },
     "execution_count": 6,
     "metadata": {},
     "output_type": "execute_result"
    }
   ],
   "source": [
    "Site.objects.all()[1].page_set.all()"
   ]
  },
  {
   "cell_type": "code",
   "execution_count": 31,
   "metadata": {},
   "outputs": [],
   "source": [
    "from celery.task.control import inspect"
   ]
  },
  {
   "cell_type": "code",
   "execution_count": 15,
   "metadata": {},
   "outputs": [],
   "source": [
    "import tld"
   ]
  },
  {
   "cell_type": "code",
   "execution_count": 40,
   "metadata": {},
   "outputs": [],
   "source": [
    "res = tld.get_tld('https://ab.dgdg.ok.nl/adgihiadhg?asfin=eave', as_object=True)"
   ]
  },
  {
   "cell_type": "code",
   "execution_count": 41,
   "metadata": {},
   "outputs": [
    {
     "data": {
      "text/plain": [
       "['_Result__fld',\n",
       " '__class__',\n",
       " '__delattr__',\n",
       " '__dict__',\n",
       " '__dir__',\n",
       " '__doc__',\n",
       " '__eq__',\n",
       " '__format__',\n",
       " '__ge__',\n",
       " '__getattribute__',\n",
       " '__gt__',\n",
       " '__hash__',\n",
       " '__init__',\n",
       " '__init_subclass__',\n",
       " '__le__',\n",
       " '__lt__',\n",
       " '__module__',\n",
       " '__ne__',\n",
       " '__new__',\n",
       " '__reduce__',\n",
       " '__reduce_ex__',\n",
       " '__repr__',\n",
       " '__setattr__',\n",
       " '__sizeof__',\n",
       " '__slots__',\n",
       " '__str__',\n",
       " '__subclasshook__',\n",
       " 'domain',\n",
       " 'extension',\n",
       " 'fld',\n",
       " 'parsed_url',\n",
       " 'subdomain',\n",
       " 'suffix',\n",
       " 'tld']"
      ]
     },
     "execution_count": 41,
     "metadata": {},
     "output_type": "execute_result"
    }
   ],
   "source": [
    "dir(res)"
   ]
  },
  {
   "cell_type": "code",
   "execution_count": 42,
   "metadata": {},
   "outputs": [
    {
     "data": {
      "text/plain": [
       "'ab.dgdg.ok.nl'"
      ]
     },
     "execution_count": 42,
     "metadata": {},
     "output_type": "execute_result"
    }
   ],
   "source": []
  }
 ],
 "metadata": {
  "kernelspec": {
   "display_name": "Django Shell-Plus",
   "language": "python",
   "name": "django_extensions"
  },
  "language_info": {
   "codemirror_mode": {
    "name": "ipython",
    "version": 3
   },
   "file_extension": ".py",
   "mimetype": "text/x-python",
   "name": "python",
   "nbconvert_exporter": "python",
   "pygments_lexer": "ipython3",
   "version": "3.7.6"
  }
 },
 "nbformat": 4,
 "nbformat_minor": 4
}
